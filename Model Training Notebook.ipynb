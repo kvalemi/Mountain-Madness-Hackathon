{
 "cells": [
  {
   "cell_type": "markdown",
   "metadata": {},
   "source": [
    "## Data Prep"
   ]
  },
  {
   "cell_type": "code",
   "execution_count": 4,
   "metadata": {},
   "outputs": [],
   "source": [
    "# load in the dependancies\n",
    "import tensorflow as tf\n",
    "from tensorflow import keras\n",
    "from tensorflow.keras import layers\n",
    "import cv2\n",
    "import os\n",
    "import matplotlib.pyplot as plt\n",
    "import numpy as np\n",
    "import random"
   ]
  },
  {
   "cell_type": "code",
   "execution_count": 7,
   "metadata": {},
   "outputs": [],
   "source": [
    "# image processing function\n",
    "def create_training_data():\n",
    "    \n",
    "    # Use binary classes as labels of the directory\n",
    "    for category in Classes:\n",
    "\n",
    "        path = os.path.join(Datadirectory, category)\n",
    "        class_num = Classes.index(category)\n",
    "\n",
    "        # loop through each labeled directoryu\n",
    "        for img in os.listdir(path):\n",
    "\n",
    "            # Add images to training set\n",
    "            try:\n",
    "                img_path = os.path.join(path, img)\n",
    "                img_array = cv2.imread(img_path)\n",
    "\n",
    "                # normalize the image for optimal parsing\n",
    "                img_size = 224\n",
    "                new_array = cv2.resize(img_array, (img_size, img_size))\n",
    "                training_Data.append([new_array, class_num])\n",
    "\n",
    "            except Exception as e:\n",
    "                # print('Failed to Grab Image')\n",
    "                pass"
   ]
  },
  {
   "cell_type": "code",
   "execution_count": 8,
   "metadata": {},
   "outputs": [
    {
     "name": "stdout",
     "output_type": "stream",
     "text": [
      "Failed to Grab Image\n",
      "Failed to Grab Image\n"
     ]
    }
   ],
   "source": [
    "# basic variables\n",
    "img_size = 224\n",
    "Datadirectory = 'Dataset/'\n",
    "Classes = ['Louis', 'Not_Louis'] # i'm using class labels as the local directory names as-well\n",
    "\n",
    "# training set\n",
    "training_Data = []\n",
    "create_training_data()\n",
    "random.shuffle(training_Data)\n",
    "\n",
    "X = [] # Features\n",
    "y = [] # label\n",
    "\n",
    "for features, label in training_Data:\n",
    "    X.append(features)\n",
    "    y.append(label)\n",
    "\n",
    "# add image features to numpy matrix for max efficiency\n",
    "X = np.array(X).reshape(-1, img_size, img_size, 3)\n",
    "Y = np.array(y)\n",
    "X = X/255"
   ]
  },
  {
   "cell_type": "markdown",
   "metadata": {},
   "source": [
    "## Training"
   ]
  },
  {
   "cell_type": "code",
   "execution_count": 19,
   "metadata": {},
   "outputs": [
    {
     "name": "stdout",
     "output_type": "stream",
     "text": [
      "Epoch 1/15\n",
      "9/9 [==============================] - 27s 3s/step - loss: 0.3024 - accuracy: 0.8490 - val_loss: 1.0670 - val_accuracy: 0.8310\n",
      "Epoch 2/15\n",
      "9/9 [==============================] - 21s 2s/step - loss: 0.2371 - accuracy: 0.9596 - val_loss: 2.5358 - val_accuracy: 0.6901\n",
      "Epoch 3/15\n",
      "9/9 [==============================] - 22s 2s/step - loss: 0.0292 - accuracy: 0.9872 - val_loss: 5.0570 - val_accuracy: 0.5915\n",
      "Epoch 4/15\n",
      "9/9 [==============================] - 22s 2s/step - loss: 0.0347 - accuracy: 0.9890 - val_loss: 11.1590 - val_accuracy: 0.5070\n",
      "Epoch 5/15\n",
      "9/9 [==============================] - 22s 2s/step - loss: 7.0599e-04 - accuracy: 1.0000 - val_loss: 9.2672 - val_accuracy: 0.5211\n",
      "Epoch 6/15\n",
      "9/9 [==============================] - 21s 2s/step - loss: 0.0907 - accuracy: 0.9769 - val_loss: 3.3865 - val_accuracy: 0.7324\n",
      "Epoch 7/15\n",
      "9/9 [==============================] - 21s 2s/step - loss: 0.0776 - accuracy: 0.9879 - val_loss: 6.1345 - val_accuracy: 0.6620\n",
      "Epoch 8/15\n",
      "9/9 [==============================] - 21s 2s/step - loss: 0.0205 - accuracy: 0.9816 - val_loss: 13.6993 - val_accuracy: 0.5775\n",
      "Epoch 9/15\n",
      "9/9 [==============================] - 21s 2s/step - loss: 0.0050 - accuracy: 1.0000 - val_loss: 10.7585 - val_accuracy: 0.6197\n",
      "Epoch 10/15\n",
      "9/9 [==============================] - 21s 2s/step - loss: 0.0023 - accuracy: 1.0000 - val_loss: 7.7653 - val_accuracy: 0.6901\n",
      "Epoch 11/15\n",
      "9/9 [==============================] - 22s 2s/step - loss: 8.8722e-04 - accuracy: 1.0000 - val_loss: 6.5231 - val_accuracy: 0.6901\n",
      "Epoch 12/15\n",
      "9/9 [==============================] - 27s 3s/step - loss: 0.0013 - accuracy: 1.0000 - val_loss: 4.9900 - val_accuracy: 0.7606\n",
      "Epoch 13/15\n",
      "9/9 [==============================] - 29s 3s/step - loss: 8.9977e-04 - accuracy: 1.0000 - val_loss: 2.8646 - val_accuracy: 0.8310\n",
      "Epoch 14/15\n",
      "9/9 [==============================] - 21s 2s/step - loss: 0.0011 - accuracy: 1.0000 - val_loss: 1.4977 - val_accuracy: 0.9155\n",
      "Epoch 15/15\n",
      "9/9 [==============================] - 20s 2s/step - loss: 5.0658e-04 - accuracy: 1.0000 - val_loss: 1.0882 - val_accuracy: 0.9437\n"
     ]
    },
    {
     "data": {
      "text/plain": [
       "<tensorflow.python.keras.callbacks.History at 0x7fec685062b0>"
      ]
     },
     "execution_count": 19,
     "metadata": {},
     "output_type": "execute_result"
    }
   ],
   "source": [
    "# load-in pre-trained keras model (lightweight image processing DL structure)\n",
    "model = tf.keras.applications.mobilenet.MobileNet()\n",
    "\n",
    "# extra junk needed to normalize the final layers of the model\n",
    "base_input = model.layers[0].input\n",
    "base_ouput = model.layers[-4].output\n",
    "Flat_layer = layers.Flatten()(base_ouput)\n",
    "final_output = layers.Dense(1)(Flat_layer)\n",
    "\n",
    "# define binary classification nature\n",
    "final_output = layers.Activation('sigmoid')(final_output)\n",
    "new_model = keras.Model(inputs = base_input, outputs = final_output)\n",
    "new_model.compile(loss = 'binary_crossentropy', optimizer = 'adam', metrics = ['accuracy'])\n",
    "\n",
    "# fit the bad boy\n",
    "new_model.fit(X, Y, epochs = 15, validation_split = 0.2)"
   ]
  },
  {
   "cell_type": "code",
   "execution_count": 20,
   "metadata": {},
   "outputs": [],
   "source": [
    "# save the model\n",
    "new_model.save('./Model/Fitted_Model.h5')"
   ]
  },
  {
   "cell_type": "code",
   "execution_count": null,
   "metadata": {},
   "outputs": [],
   "source": []
  }
 ],
 "metadata": {
  "kernelspec": {
   "display_name": "Python 3",
   "language": "python",
   "name": "python3"
  },
  "language_info": {
   "codemirror_mode": {
    "name": "ipython",
    "version": 3
   },
   "file_extension": ".py",
   "mimetype": "text/x-python",
   "name": "python",
   "nbconvert_exporter": "python",
   "pygments_lexer": "ipython3",
   "version": "3.8.3"
  }
 },
 "nbformat": 4,
 "nbformat_minor": 4
}
